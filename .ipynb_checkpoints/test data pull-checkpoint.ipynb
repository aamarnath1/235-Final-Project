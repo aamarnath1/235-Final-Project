{
 "cells": [
  {
   "cell_type": "code",
   "execution_count": 1,
   "id": "a1b886f5",
   "metadata": {},
   "outputs": [],
   "source": [
    "import pandas as pd\n",
    "import numpy\n",
    "import matplotlib"
   ]
  },
  {
   "cell_type": "code",
   "execution_count": 2,
   "id": "0d572cde",
   "metadata": {},
   "outputs": [],
   "source": [
    "fertility = pd.read_csv(\"data/age_specific_fertility_rates.csv\")\n",
    "birth_death = pd.read_csv(\"data/birth_death_growth_rates.csv\") \n",
    "country_area = pd.read_csv(\"data/country_names_area.csv\")\n",
    "midyear_pop_5yrs = pd.read_csv(\"data/midyear_population_5yr_age_sex.csv\")\n",
    "mortality_life = pd.read_csv(\"data/mortality_life_expectancy.csv\")\n",
    "midyear_population = pd.read_csv(\"data/midyear_population.csv\")"
   ]
  },
  {
   "cell_type": "code",
   "execution_count": 3,
   "id": "3fe18069",
   "metadata": {},
   "outputs": [
    {
     "name": "stdout",
     "output_type": "stream",
     "text": [
      "  country_code    country_name  country_area\n",
      "0           AF     Afghanistan      652230.0\n",
      "1           AL         Albania       27398.0\n",
      "2           AG         Algeria     2381741.0\n",
      "3           AQ  American Samoa         199.0\n",
      "4           AN         Andorra         468.0\n"
     ]
    }
   ],
   "source": [
    "print(country_area.head())"
   ]
  },
  {
   "cell_type": "code",
   "execution_count": 4,
   "id": "ff893d5e",
   "metadata": {},
   "outputs": [
    {
     "name": "stdout",
     "output_type": "stream",
     "text": [
      "  country_code country_name  year total_flag  starting_age  \\\n",
      "0           NO       Norway  2036          A             0   \n",
      "1           EG        Egypt  2021          A           100   \n",
      "2           SN    Singapore  2042          A            90   \n",
      "3           ZI     Zimbabwe  2005          A            85   \n",
      "4           SI     Slovenia  2035          A             0   \n",
      "\n",
      "  age_group_indicator  ending_age  midyear_population  \\\n",
      "0                   -           4              324151   \n",
      "1                   +           0                 327   \n",
      "2                   -          94              102198   \n",
      "3                   -          89               19925   \n",
      "4                   -           4               67365   \n",
      "\n",
      "   midyear_population_male  midyear_population_female  \n",
      "0                   166113                     158038  \n",
      "1                      117                        210  \n",
      "2                    40128                      62070  \n",
      "3                     9055                      10870  \n",
      "4                    34744                      32621  \n"
     ]
    }
   ],
   "source": [
    "print(midyear_pop_5yrs.head())"
   ]
  },
  {
   "cell_type": "code",
   "execution_count": 5,
   "id": "7ae3d1ce",
   "metadata": {},
   "outputs": [
    {
     "name": "stdout",
     "output_type": "stream",
     "text": [
      "  country_code country_name  year  midyear_population\n",
      "0           SI     Slovenia  2013             1992690\n",
      "1           SI     Slovenia  2025             1907560\n",
      "2           SI     Slovenia  2024             1917093\n",
      "3           SI     Slovenia  2023             1926279\n",
      "4           SI     Slovenia  2022             1935080\n"
     ]
    }
   ],
   "source": [
    "print(midyear_population.head())"
   ]
  },
  {
   "cell_type": "code",
   "execution_count": 6,
   "id": "03c1e9b7",
   "metadata": {},
   "outputs": [],
   "source": [
    "# merge country_area w/ midyear_pop\n",
    "population_data = pd.merge(midyear_population, country_area, on=[\"country_code\", \"country_name\"], how=\"left\")\n",
    "\n",
    "# merge w/ midyear 5 yrs\n",
    "population_data = pd.merge(population_data, midyear_pop_5yrs, on=[\"country_code\", \"country_name\", \"year\"], how=\"left\")"
   ]
  },
  {
   "cell_type": "code",
   "execution_count": 7,
   "id": "cd3c58fb",
   "metadata": {
    "scrolled": true
   },
   "outputs": [
    {
     "name": "stdout",
     "output_type": "stream",
     "text": [
      "  country_code country_name  year  midyear_population_x  country_area  \\\n",
      "0           SI     Slovenia  2013               1992690       20151.0   \n",
      "1           SI     Slovenia  2013               1992690       20151.0   \n",
      "2           SI     Slovenia  2013               1992690       20151.0   \n",
      "3           SI     Slovenia  2013               1992690       20151.0   \n",
      "4           SI     Slovenia  2013               1992690       20151.0   \n",
      "\n",
      "  total_flag  starting_age age_group_indicator  ending_age  \\\n",
      "0          A          15.0                   -        19.0   \n",
      "1          A          40.0                   -        44.0   \n",
      "2          A          80.0                   -        84.0   \n",
      "3          A          45.0                   -        49.0   \n",
      "4          A         100.0                   +         0.0   \n",
      "\n",
      "   midyear_population_y  midyear_population_male  midyear_population_female  \n",
      "0               94879.0                  48526.0                    46353.0  \n",
      "1              143423.0                  72399.0                    71024.0  \n",
      "2               51422.0                  17217.0                    34205.0  \n",
      "3              152663.0                  75513.0                    77150.0  \n",
      "4                 397.0                     67.0                      330.0  \n"
     ]
    }
   ],
   "source": [
    "print(population_data.head())"
   ]
  },
  {
   "cell_type": "code",
   "execution_count": 8,
   "id": "7eb978b6",
   "metadata": {},
   "outputs": [
    {
     "ename": "ValueError",
     "evalue": "Bin labels must be one fewer than the number of bin edges",
     "output_type": "error",
     "traceback": [
      "\u001b[0;31m---------------------------------------------------------------------------\u001b[0m",
      "\u001b[0;31mValueError\u001b[0m                                Traceback (most recent call last)",
      "\u001b[0;32m<ipython-input-8-556971e6cc9c>\u001b[0m in \u001b[0;36m<module>\u001b[0;34m\u001b[0m\n\u001b[1;32m      3\u001b[0m \u001b[0;34m\u001b[0m\u001b[0m\n\u001b[1;32m      4\u001b[0m \u001b[0;31m#adding new column for groups\u001b[0m\u001b[0;34m\u001b[0m\u001b[0;34m\u001b[0m\u001b[0;34m\u001b[0m\u001b[0m\n\u001b[0;32m----> 5\u001b[0;31m \u001b[0mpopulation_data\u001b[0m\u001b[0;34m[\u001b[0m\u001b[0;34m'age_group'\u001b[0m\u001b[0;34m]\u001b[0m \u001b[0;34m=\u001b[0m \u001b[0mpd\u001b[0m\u001b[0;34m.\u001b[0m\u001b[0mcut\u001b[0m\u001b[0;34m(\u001b[0m\u001b[0mpopulation_data\u001b[0m\u001b[0;34m[\u001b[0m\u001b[0;34m'ending_age'\u001b[0m\u001b[0;34m]\u001b[0m\u001b[0;34m,\u001b[0m \u001b[0mbins\u001b[0m\u001b[0;34m=\u001b[0m\u001b[0mage_bins\u001b[0m\u001b[0;34m,\u001b[0m \u001b[0mlabels\u001b[0m\u001b[0;34m=\u001b[0m\u001b[0mage_labels\u001b[0m\u001b[0;34m,\u001b[0m \u001b[0mright\u001b[0m\u001b[0;34m=\u001b[0m\u001b[0;32mFalse\u001b[0m\u001b[0;34m)\u001b[0m\u001b[0;34m\u001b[0m\u001b[0;34m\u001b[0m\u001b[0m\n\u001b[0m",
      "\u001b[0;32m~/opt/anaconda3/lib/python3.8/site-packages/pandas/core/reshape/tile.py\u001b[0m in \u001b[0;36mcut\u001b[0;34m(x, bins, right, labels, retbins, precision, include_lowest, duplicates, ordered)\u001b[0m\n\u001b[1;32m    271\u001b[0m             \u001b[0;32mraise\u001b[0m \u001b[0mValueError\u001b[0m\u001b[0;34m(\u001b[0m\u001b[0;34m\"bins must increase monotonically.\"\u001b[0m\u001b[0;34m)\u001b[0m\u001b[0;34m\u001b[0m\u001b[0;34m\u001b[0m\u001b[0m\n\u001b[1;32m    272\u001b[0m \u001b[0;34m\u001b[0m\u001b[0m\n\u001b[0;32m--> 273\u001b[0;31m     fac, bins = _bins_to_cuts(\n\u001b[0m\u001b[1;32m    274\u001b[0m         \u001b[0mx\u001b[0m\u001b[0;34m,\u001b[0m\u001b[0;34m\u001b[0m\u001b[0;34m\u001b[0m\u001b[0m\n\u001b[1;32m    275\u001b[0m         \u001b[0mbins\u001b[0m\u001b[0;34m,\u001b[0m\u001b[0;34m\u001b[0m\u001b[0;34m\u001b[0m\u001b[0m\n",
      "\u001b[0;32m~/opt/anaconda3/lib/python3.8/site-packages/pandas/core/reshape/tile.py\u001b[0m in \u001b[0;36m_bins_to_cuts\u001b[0;34m(x, bins, right, labels, precision, include_lowest, dtype, duplicates, ordered)\u001b[0m\n\u001b[1;32m    430\u001b[0m         \u001b[0;32melse\u001b[0m\u001b[0;34m:\u001b[0m\u001b[0;34m\u001b[0m\u001b[0;34m\u001b[0m\u001b[0m\n\u001b[1;32m    431\u001b[0m             \u001b[0;32mif\u001b[0m \u001b[0mlen\u001b[0m\u001b[0;34m(\u001b[0m\u001b[0mlabels\u001b[0m\u001b[0;34m)\u001b[0m \u001b[0;34m!=\u001b[0m \u001b[0mlen\u001b[0m\u001b[0;34m(\u001b[0m\u001b[0mbins\u001b[0m\u001b[0;34m)\u001b[0m \u001b[0;34m-\u001b[0m \u001b[0;36m1\u001b[0m\u001b[0;34m:\u001b[0m\u001b[0;34m\u001b[0m\u001b[0;34m\u001b[0m\u001b[0m\n\u001b[0;32m--> 432\u001b[0;31m                 raise ValueError(\n\u001b[0m\u001b[1;32m    433\u001b[0m                     \u001b[0;34m\"Bin labels must be one fewer than the number of bin edges\"\u001b[0m\u001b[0;34m\u001b[0m\u001b[0;34m\u001b[0m\u001b[0m\n\u001b[1;32m    434\u001b[0m                 )\n",
      "\u001b[0;31mValueError\u001b[0m: Bin labels must be one fewer than the number of bin edges"
     ]
    }
   ],
   "source": [
    "age_bins = [0,20,40,60,80,100]\n",
    "age_labels = ['0-20', '20-40', '40-60', '80-100+']\n",
    "\n",
    "#adding new column for groups\n",
    "population_data['age_group'] = pd.cut(population_data['ending_age'], bins=age_bins, labels=age_labels, right=False)\n"
   ]
  },
  {
   "cell_type": "code",
   "execution_count": null,
   "id": "6963d16a",
   "metadata": {},
   "outputs": [],
   "source": []
  }
 ],
 "metadata": {
  "kernelspec": {
   "display_name": "Python 3",
   "language": "python",
   "name": "python3"
  },
  "language_info": {
   "codemirror_mode": {
    "name": "ipython",
    "version": 3
   },
   "file_extension": ".py",
   "mimetype": "text/x-python",
   "name": "python",
   "nbconvert_exporter": "python",
   "pygments_lexer": "ipython3",
   "version": "3.8.8"
  }
 },
 "nbformat": 4,
 "nbformat_minor": 5
}
