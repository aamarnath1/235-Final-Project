{
 "cells": [
  {
   "cell_type": "code",
   "execution_count": null,
   "id": "e1767856",
   "metadata": {},
   "outputs": [],
   "source": [
    "import pandas as pd\n",
    "import numpy as np\n",
    "import matplotlib"
   ]
  },
  {
   "cell_type": "code",
   "execution_count": null,
   "id": "ef263fca",
   "metadata": {},
   "outputs": [],
   "source": [
    "fertility = pd.read_csv(\"data/age_specific_fertility_rates.csv\")\n",
    "birth_death = pd.read_csv(\"data/birth_death_growth_rates.csv\") \n",
    "country_area = pd.read_csv(\"data/country_names_area.csv\")\n",
    "midyear_pop_5yrs = pd.read_csv(\"data/midyear_population_5yr_age_sex.csv\")\n",
    "mortality_life = pd.read_csv(\"data/mortality_life_expectancy.csv\")\n",
    "midyear_population = pd.read_csv(\"data/midyear_population.csv\")"
   ]
  },
  {
   "cell_type": "code",
   "execution_count": null,
   "id": "28316841",
   "metadata": {},
   "outputs": [],
   "source": [
    "#replacing column name \n",
    "midyear_population.rename(columns={'midyear_population': 'yearly_midyear_pop'}, inplace=True)\n",
    "\n",
    "# merge country_area w/ midyear_pop\n",
    "population_data = pd.merge(midyear_population, country_area, on=[\"country_code\", \"country_name\"], how=\"right\")\n",
    "\n",
    "# merge w/ midyear 5 yrs\n",
    "population_data = pd.merge(population_data, midyear_pop_5yrs, on=[\"country_code\", \"country_name\", \"year\"], how=\"right\")\n",
    "population_data"
   ]
  },
  {
   "cell_type": "code",
   "execution_count": null,
   "id": "cd4ac00e",
   "metadata": {},
   "outputs": [],
   "source": [
    "age_bins = [0,20,40,60,80,100]\n",
    "age_labels = ['0-20', '20-40', '40-60', '60-80' ,'80-100+']\n",
    "\n",
    "#adding new column for groups\n",
    "population_data['age_group'] = pd.cut(population_data['ending_age'], bins=age_bins, labels=age_labels, right=False)"
   ]
  },
  {
   "cell_type": "code",
   "execution_count": null,
   "id": "a54dc6e5",
   "metadata": {},
   "outputs": [],
   "source": [
    "aggregated_data = population_data.groupby(['country_code', 'country_name', 'year', 'age_group']).agg({\n",
    "    'midyear_population_male': 'sum',\n",
    "    'midyear_population_female': 'sum',\n",
    "    'yearly_midyear_pop': 'sum',\n",
    "    'country_area': 'first'\n",
    "}).reset_index()"
   ]
  },
  {
   "cell_type": "code",
   "execution_count": null,
   "id": "2a82a3a1",
   "metadata": {},
   "outputs": [],
   "source": [
    "aggregated_data"
   ]
  },
  {
   "cell_type": "code",
   "execution_count": null,
   "id": "16219de9",
   "metadata": {},
   "outputs": [],
   "source": []
  }
 ],
 "metadata": {
  "kernelspec": {
   "display_name": "Python 3",
   "language": "python",
   "name": "python3"
  },
  "language_info": {
   "codemirror_mode": {
    "name": "ipython",
    "version": 3
   },
   "file_extension": ".py",
   "mimetype": "text/x-python",
   "name": "python",
   "nbconvert_exporter": "python",
   "pygments_lexer": "ipython3",
   "version": "3.8.8"
  }
 },
 "nbformat": 4,
 "nbformat_minor": 5
}
