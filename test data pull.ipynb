{
 "cells": [
  {
   "cell_type": "code",
   "execution_count": 1,
   "id": "a1b886f5",
   "metadata": {},
   "outputs": [],
   "source": [
    "import pandas as pd\n",
    "import numpy\n",
    "import matplotlib"
   ]
  },
  {
   "cell_type": "code",
   "execution_count": 2,
   "id": "0d572cde",
   "metadata": {},
   "outputs": [],
   "source": [
    "fertility = pd.read_csv(\"/Users/Arya/Documents/School/Spring 24/DSCI-235/Final Project/Github/Untitled/data/age_specific_fertility_rates.csv\")"
   ]
  },
  {
   "cell_type": "code",
   "execution_count": 3,
   "id": "3fe18069",
   "metadata": {},
   "outputs": [
    {
     "name": "stdout",
     "output_type": "stream",
     "text": [
      "  country_code country_name  year  fertility_rate_15_19  fertility_rate_20_24  \\\n",
      "0           SI     Slovenia  2036                   8.5                  60.2   \n",
      "1           SI     Slovenia  2022                   7.5                  56.4   \n",
      "2           SI     Slovenia  2023                   7.6                  56.5   \n",
      "3           SI     Slovenia  2024                   7.7                  56.8   \n",
      "4           SI     Slovenia  2025                   7.7                  56.9   \n",
      "\n",
      "   fertility_rate_25_29  fertility_rate_30_34  fertility_rate_35_39  \\\n",
      "0                 112.0                  86.3                  32.0   \n",
      "1                 106.1                  75.5                  26.7   \n",
      "2                 106.6                  76.2                  27.2   \n",
      "3                 107.0                  77.1                  27.5   \n",
      "4                 107.4                  78.0                  27.7   \n",
      "\n",
      "   fertility_rate_40_44  fertility_rate_45_49  total_fertility_rate  \\\n",
      "0                   8.8                   3.7                1.5555   \n",
      "1                   6.4                   2.3                1.4110   \n",
      "2                   6.6                   2.4                1.4213   \n",
      "3                   6.7                   2.5                1.4316   \n",
      "4                   6.9                   2.6                1.4419   \n",
      "\n",
      "   gross_reproduction_rate  sex_ratio_at_birth  \n",
      "0                   0.7529              1.0660  \n",
      "1                   0.6829              1.0661  \n",
      "2                   0.6879              1.0660  \n",
      "3                   0.6929              1.0660  \n",
      "4                   0.6979              1.0661  \n"
     ]
    }
   ],
   "source": [
    "print(fertility.head())"
   ]
  },
  {
   "cell_type": "code",
   "execution_count": null,
   "id": "ff893d5e",
   "metadata": {},
   "outputs": [],
   "source": []
  }
 ],
 "metadata": {
  "kernelspec": {
   "display_name": "Python 3",
   "language": "python",
   "name": "python3"
  },
  "language_info": {
   "codemirror_mode": {
    "name": "ipython",
    "version": 3
   },
   "file_extension": ".py",
   "mimetype": "text/x-python",
   "name": "python",
   "nbconvert_exporter": "python",
   "pygments_lexer": "ipython3",
   "version": "3.8.8"
  }
 },
 "nbformat": 4,
 "nbformat_minor": 5
}
